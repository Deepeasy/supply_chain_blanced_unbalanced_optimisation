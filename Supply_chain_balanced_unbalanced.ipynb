{
 "cells": [
  {
   "cell_type": "code",
   "execution_count": 3,
   "id": "2626abef",
   "metadata": {
    "ExecuteTime": {
     "end_time": "2024-10-24T01:21:58.532224Z",
     "start_time": "2024-10-24T01:21:58.473023Z"
    }
   },
   "outputs": [],
   "source": [
    "# Some parts of codes Copied from https://github.com/Sambonic/transportation-cost-minimization..Modification done to improve \n",
    "#balanced and unbalanced optimization\n",
    "\n",
    "from pulp import LpProblem, LpVariable, LpMinimize\n"
   ]
  },
  {
   "cell_type": "code",
   "execution_count": 4,
   "id": "8ba3940b",
   "metadata": {
    "ExecuteTime": {
     "end_time": "2024-10-24T01:21:58.547730Z",
     "start_time": "2024-10-24T01:21:58.534217Z"
    }
   },
   "outputs": [],
   "source": [
    "def supply_chain_optimize(capacity, demands,costs):\n",
    "    total_capacity= 0 \n",
    "    for ele in range(0, len(capacity)):\n",
    "        total_capacity = total_capacity + capacity[ele]\n",
    "    \n",
    "    total_demand= 0 \n",
    "    for ele in range(0, len(demands)):\n",
    "        total_demand = total_demand + demands[ele]\n",
    "\n",
    "    if total_demand>total_capacity:\n",
    "    # Find the maximum element in costs\n",
    "        max_element = max([max(row) for row in costs])\n",
    "    \n",
    "        new_row = [100 * max_element] * len(costs[0])\n",
    "\n",
    "    # Add the new row to the costs matrix\n",
    "        costs.append(new_row)\n",
    "\n",
    "\n",
    "    objective = 0\n",
    "# Warehouses and destinations\n",
    "    num_warehouses = len(capacity)\n",
    "    num_destinations = len(demands)\n",
    "\n",
    "# Define decision variables\n",
    "    X = LpVariable.dicts(\"X\", [(i, j) for i in range(num_warehouses) for j in range(num_destinations)], lowBound=0)\n",
    "\n",
    "# Objective function\n",
    "\n",
    "    for i in range(num_warehouses):\n",
    "        for j in range(num_destinations):\n",
    "            objective += costs[i][j] * X[(i, j)]\n",
    "\n",
    "    problem = LpProblem(\"Minimize_Transportation_Cost\", LpMinimize)\n",
    "    problem.setObjective(objective)\n",
    "\n",
    "# Supply constraints\n",
    "\n",
    "    for i in range(num_warehouses):\n",
    "        constraint_name = f\"Warehouse_{i+1}_Capacity\"\n",
    "        constraint = sum(X[(i, j)] for j in range(num_destinations)) <= capacity[i]\n",
    "        problem.addConstraint(constraint, name=constraint_name)\n",
    "\n",
    "# Demand constraints \n",
    "\n",
    "    for j in range(num_destinations):\n",
    "        constraint_name = f\"Destination_{j+1}_Demand\"\n",
    "        constraint = sum(X[(i, j)] for i in range(num_warehouses)) >= demands[j]\n",
    "        problem.addConstraint(constraint, name=constraint_name)\n",
    "\n",
    "# Nonnegativity constraints\n",
    "    for i in range(num_warehouses):\n",
    "        for j in range(num_destinations):\n",
    "            problem.addConstraint(X[(i, j)] >= 0, name=f\"NonNeg_{(i, j)}\")\n",
    "\n",
    "# Solve the problem\n",
    "    problem.solve()\n",
    "\n",
    "# Print the solution (total cost)\n",
    "    print(f\"Total Transportation Cost: {problem.objective.value():.2f}\")\n",
    "\n",
    "    for i in range(num_warehouses):\n",
    "        for j in range(num_destinations):\n",
    "            value = X[(i, j)].value()\n",
    "            print(f\"Optimal X({i+1}, {j+1}): {value:.2f}\")"
   ]
  },
  {
   "cell_type": "code",
   "execution_count": 5,
   "id": "954f87b5",
   "metadata": {
    "ExecuteTime": {
     "end_time": "2024-10-24T01:21:58.579718Z",
     "start_time": "2024-10-24T01:21:58.549720Z"
    }
   },
   "outputs": [
    {
     "name": "stdout",
     "output_type": "stream",
     "text": [
      "Total Transportation Cost: 861373.00\n",
      "Optimal X(1, 1): 1168.00\n",
      "Optimal X(1, 2): 0.00\n",
      "Optimal X(1, 3): 0.00\n",
      "Optimal X(1, 4): 0.00\n",
      "Optimal X(1, 5): 0.00\n",
      "Optimal X(1, 6): 2035.00\n",
      "Optimal X(1, 7): 386.00\n",
      "Optimal X(2, 1): 0.00\n",
      "Optimal X(2, 2): 1560.00\n",
      "Optimal X(2, 3): 0.00\n",
      "Optimal X(2, 4): 0.00\n",
      "Optimal X(2, 5): 0.00\n",
      "Optimal X(2, 6): 0.00\n",
      "Optimal X(2, 7): 0.00\n",
      "Optimal X(3, 1): 0.00\n",
      "Optimal X(3, 2): 0.00\n",
      "Optimal X(3, 3): 1439.00\n",
      "Optimal X(3, 4): 986.00\n",
      "Optimal X(3, 5): 1658.00\n",
      "Optimal X(3, 6): 0.00\n",
      "Optimal X(3, 7): 773.00\n"
     ]
    }
   ],
   "source": [
    "capacity = [3980, 1785, 4856]\n",
    "demands = [1168, 1560, 1439, 986, 1658, 2035, 1159]\n",
    "\n",
    "\n",
    "costs = [\n",
    "    [15, 160, 154, 245, 130, 125, 215],\n",
    "    [160, 12, 315, 410, 290, 427, 375],\n",
    "    [100, 260, 56, 190, 58, 204, 160]\n",
    "]\n",
    "\n",
    "supply_chain_optimize(capacity,demands,costs)"
   ]
  },
  {
   "cell_type": "code",
   "execution_count": 6,
   "id": "bd017d62",
   "metadata": {
    "ExecuteTime": {
     "end_time": "2024-10-24T01:21:58.610682Z",
     "start_time": "2024-10-24T01:21:58.581960Z"
    }
   },
   "outputs": [
    {
     "name": "stdout",
     "output_type": "stream",
     "text": [
      "Total Transportation Cost: 1219745.80\n",
      "Optimal X(1, 1): 398.10\n",
      "Optimal X(1, 2): 0.00\n",
      "Optimal X(1, 3): 0.00\n",
      "Optimal X(1, 4): 398.10\n",
      "Optimal X(1, 5): 1771.60\n",
      "Optimal X(1, 6): 398.10\n",
      "Optimal X(1, 7): 398.10\n",
      "Optimal X(2, 1): 225.00\n",
      "Optimal X(2, 2): 1560.00\n",
      "Optimal X(2, 3): 0.00\n",
      "Optimal X(2, 4): 0.00\n",
      "Optimal X(2, 5): 0.00\n",
      "Optimal X(2, 6): 0.00\n",
      "Optimal X(2, 7): 0.00\n",
      "Optimal X(3, 1): 544.90\n",
      "Optimal X(3, 2): 0.00\n",
      "Optimal X(3, 3): 1439.00\n",
      "Optimal X(3, 4): 587.90\n",
      "Optimal X(3, 5): -113.60\n",
      "Optimal X(3, 6): 1636.90\n",
      "Optimal X(3, 7): 760.90\n"
     ]
    }
   ],
   "source": [
    "capacity = [398, 1785, 4856]\n",
    "demands = [1168, 1560, 1439, 986, 1658, 2035, 1159]\n",
    "\n",
    "\n",
    "costs = [\n",
    "    [15, 160, 154, 245, 130, 125, 215],\n",
    "    [160, 12, 315, 410, 290, 427, 375],\n",
    "    [100, 260, 56, 190, 58, 204, 160]\n",
    "]\n",
    "\n",
    "supply_chain_optimize(capacity,demands,costs)"
   ]
  },
  {
   "cell_type": "code",
   "execution_count": 7,
   "id": "d037410f",
   "metadata": {
    "ExecuteTime": {
     "end_time": "2024-10-24T01:21:58.641456Z",
     "start_time": "2024-10-24T01:21:58.612730Z"
    }
   },
   "outputs": [
    {
     "name": "stdout",
     "output_type": "stream",
     "text": [
      "Total Transportation Cost: 861373.00\n",
      "Optimal X(1, 1): 1168.00\n",
      "Optimal X(1, 2): 0.00\n",
      "Optimal X(1, 3): 0.00\n",
      "Optimal X(1, 4): 0.00\n",
      "Optimal X(1, 5): 0.00\n",
      "Optimal X(1, 6): 2035.00\n",
      "Optimal X(1, 7): 386.00\n",
      "Optimal X(2, 1): 0.00\n",
      "Optimal X(2, 2): 1560.00\n",
      "Optimal X(2, 3): 0.00\n",
      "Optimal X(2, 4): 0.00\n",
      "Optimal X(2, 5): 0.00\n",
      "Optimal X(2, 6): 0.00\n",
      "Optimal X(2, 7): 0.00\n",
      "Optimal X(3, 1): 0.00\n",
      "Optimal X(3, 2): 0.00\n",
      "Optimal X(3, 3): 1439.00\n",
      "Optimal X(3, 4): 986.00\n",
      "Optimal X(3, 5): 1658.00\n",
      "Optimal X(3, 6): 0.00\n",
      "Optimal X(3, 7): 773.00\n"
     ]
    }
   ],
   "source": [
    "capacity = [39800, 1785, 4856]\n",
    "demands = [1168, 1560, 1439, 986, 1658, 2035, 1159]\n",
    "\n",
    "\n",
    "costs = [\n",
    "    [15, 160, 154, 245, 130, 125, 215],\n",
    "    [160, 12, 315, 410, 290, 427, 375],\n",
    "    [100, 260, 56, 190, 58, 204, 160]\n",
    "]\n",
    "\n",
    "supply_chain_optimize(capacity,demands,costs)"
   ]
  },
  {
   "cell_type": "code",
   "execution_count": 8,
   "id": "65fa10b3",
   "metadata": {
    "ExecuteTime": {
     "end_time": "2024-10-24T01:21:58.671686Z",
     "start_time": "2024-10-24T01:21:58.643475Z"
    }
   },
   "outputs": [
    {
     "name": "stdout",
     "output_type": "stream",
     "text": [
      "Total Transportation Cost: 1179600.00\n",
      "Optimal X(1, 1): 0.00\n",
      "Optimal X(1, 2): 0.00\n",
      "Optimal X(1, 3): 0.00\n",
      "Optimal X(1, 4): 0.00\n",
      "Optimal X(1, 5): 0.00\n",
      "Optimal X(1, 6): 100.00\n",
      "Optimal X(2, 1): 0.00\n",
      "Optimal X(2, 2): 0.00\n",
      "Optimal X(2, 3): 0.00\n",
      "Optimal X(2, 4): 0.00\n",
      "Optimal X(2, 5): 200.00\n",
      "Optimal X(2, 6): 0.00\n",
      "Optimal X(3, 1): 0.00\n",
      "Optimal X(3, 2): 400.00\n",
      "Optimal X(3, 3): 0.00\n",
      "Optimal X(3, 4): 0.00\n",
      "Optimal X(3, 5): 0.00\n",
      "Optimal X(3, 6): 0.00\n",
      "Optimal X(4, 1): 0.00\n",
      "Optimal X(4, 2): 100.00\n",
      "Optimal X(4, 3): 400.00\n",
      "Optimal X(4, 4): 0.00\n",
      "Optimal X(4, 5): 0.00\n",
      "Optimal X(4, 6): 0.00\n",
      "Optimal X(5, 1): 0.00\n",
      "Optimal X(5, 2): 0.00\n",
      "Optimal X(5, 3): 0.00\n",
      "Optimal X(5, 4): 400.00\n",
      "Optimal X(5, 5): 0.00\n",
      "Optimal X(5, 6): 200.00\n",
      "Optimal X(6, 1): 500.00\n",
      "Optimal X(6, 2): 200.00\n",
      "Optimal X(6, 3): 0.00\n",
      "Optimal X(6, 4): 0.00\n",
      "Optimal X(6, 5): 0.00\n",
      "Optimal X(6, 6): 0.00\n"
     ]
    }
   ],
   "source": [
    "capacity = [100,200,400,500,600,700]  #capacity=2500\n",
    "demands = [500, 700, 400, 400, 200, 300] #Demand=2500\n",
    "\n",
    "\n",
    "costs = [\n",
    "    [30, 90, 150, 180, 240, 360 ],\n",
    "    [150, 120, 315, 420, 270, 480],\n",
    "    [1500, 1200, 3150, 4200, 2700, 4800],\n",
    "    [90,60,129,315,336,645],\n",
    "    [1203,1320,639,741,852,948],\n",
    "    [60,180,300,360,480,720]\n",
    "    \n",
    "]\n",
    "\n",
    "supply_chain_optimize(capacity,demands,costs)\n"
   ]
  },
  {
   "cell_type": "code",
   "execution_count": 9,
   "id": "475a12a9",
   "metadata": {
    "ExecuteTime": {
     "end_time": "2024-10-24T01:22:44.387222Z",
     "start_time": "2024-10-24T01:22:44.345345Z"
    }
   },
   "outputs": [
    {
     "name": "stdout",
     "output_type": "stream",
     "text": [
      "Total Transportation Cost: 1077600.00\n",
      "Optimal X(1, 1): 0.00\n",
      "Optimal X(1, 2): 0.00\n",
      "Optimal X(1, 3): 0.00\n",
      "Optimal X(1, 4): 0.00\n",
      "Optimal X(1, 5): 0.00\n",
      "Optimal X(1, 6): 100.00\n",
      "Optimal X(2, 1): 0.00\n",
      "Optimal X(2, 2): 0.00\n",
      "Optimal X(2, 3): 0.00\n",
      "Optimal X(2, 4): 0.00\n",
      "Optimal X(2, 5): 200.00\n",
      "Optimal X(2, 6): 0.00\n",
      "Optimal X(3, 1): 0.00\n",
      "Optimal X(3, 2): 300.00\n",
      "Optimal X(3, 3): 0.00\n",
      "Optimal X(3, 4): 0.00\n",
      "Optimal X(3, 5): 0.00\n",
      "Optimal X(3, 6): 0.00\n",
      "Optimal X(4, 1): 0.00\n",
      "Optimal X(4, 2): 100.00\n",
      "Optimal X(4, 3): 400.00\n",
      "Optimal X(4, 4): 0.00\n",
      "Optimal X(4, 5): 0.00\n",
      "Optimal X(4, 6): 0.00\n",
      "Optimal X(5, 1): 0.00\n",
      "Optimal X(5, 2): 0.00\n",
      "Optimal X(5, 3): 0.00\n",
      "Optimal X(5, 4): 400.00\n",
      "Optimal X(5, 5): 0.00\n",
      "Optimal X(5, 6): 200.00\n",
      "Optimal X(6, 1): 500.00\n",
      "Optimal X(6, 2): 300.00\n",
      "Optimal X(6, 3): 0.00\n",
      "Optimal X(6, 4): 0.00\n",
      "Optimal X(6, 5): 0.00\n",
      "Optimal X(6, 6): 0.00\n"
     ]
    }
   ],
   "source": [
    "#Capacity exceed demand\n",
    "capacity = [100,200,400,500,600,800]  #capacity=2600\n",
    "demands = [500, 700, 400, 400, 200, 300] #Demand=2500\n",
    "\n",
    "\n",
    "costs = [\n",
    "    [30, 90, 150, 180, 240, 360 ],\n",
    "    [150, 120, 315, 420, 270, 480],\n",
    "    [1500, 1200, 3150, 4200, 2700, 4800],\n",
    "    [90,60,129,315,336,645],\n",
    "    [1203,1320,639,741,852,948],\n",
    "    [60,180,300,360,480,720]\n",
    "    \n",
    "]\n",
    "\n",
    "supply_chain_optimize(capacity,demands,costs)"
   ]
  },
  {
   "cell_type": "code",
   "execution_count": 10,
   "id": "cd130f6f",
   "metadata": {
    "ExecuteTime": {
     "end_time": "2024-10-24T01:23:32.142106Z",
     "start_time": "2024-10-24T01:23:32.114324Z"
    }
   },
   "outputs": [
    {
     "name": "stdout",
     "output_type": "stream",
     "text": [
      "Total Transportation Cost: 1323555.30\n",
      "Optimal X(1, 1): 0.00\n",
      "Optimal X(1, 2): 0.00\n",
      "Optimal X(1, 3): 0.00\n",
      "Optimal X(1, 4): -0.10\n",
      "Optimal X(1, 5): 0.00\n",
      "Optimal X(1, 6): 100.10\n",
      "Optimal X(2, 1): 0.00\n",
      "Optimal X(2, 2): 0.00\n",
      "Optimal X(2, 3): 0.00\n",
      "Optimal X(2, 4): 0.00\n",
      "Optimal X(2, 5): 200.00\n",
      "Optimal X(2, 6): 0.00\n",
      "Optimal X(3, 1): 99.90\n",
      "Optimal X(3, 2): 400.10\n",
      "Optimal X(3, 3): 0.00\n",
      "Optimal X(3, 4): 0.00\n",
      "Optimal X(3, 5): 0.00\n",
      "Optimal X(3, 6): 0.00\n",
      "Optimal X(4, 1): 0.00\n",
      "Optimal X(4, 2): 100.00\n",
      "Optimal X(4, 3): 400.00\n",
      "Optimal X(4, 4): 0.00\n",
      "Optimal X(4, 5): 0.00\n",
      "Optimal X(4, 6): 0.00\n",
      "Optimal X(5, 1): 0.00\n",
      "Optimal X(5, 2): 0.00\n",
      "Optimal X(5, 3): 0.00\n",
      "Optimal X(5, 4): 400.10\n",
      "Optimal X(5, 5): 0.00\n",
      "Optimal X(5, 6): 199.90\n",
      "Optimal X(6, 1): 400.10\n",
      "Optimal X(6, 2): 199.90\n",
      "Optimal X(6, 3): 0.00\n",
      "Optimal X(6, 4): 0.00\n",
      "Optimal X(6, 5): 0.00\n",
      "Optimal X(6, 6): 0.00\n"
     ]
    }
   ],
   "source": [
    "#Demand exceed capacity\n",
    "capacity = [100,200,400,500,600,600]  #capacity=2400\n",
    "demands = [500, 700, 400, 400, 200, 300] #Demand=2500\n",
    "\n",
    "\n",
    "costs = [\n",
    "    [30, 90, 150, 180, 240, 360 ],\n",
    "    [150, 120, 315, 420, 270, 480],\n",
    "    [1500, 1200, 3150, 4200, 2700, 4800],\n",
    "    [90,60,129,315,336,645],\n",
    "    [1203,1320,639,741,852,948],\n",
    "    [60,180,300,360,480,720]\n",
    "    \n",
    "]\n",
    "\n",
    "supply_chain_optimize(capacity,demands,costs)"
   ]
  },
  {
   "cell_type": "code",
   "execution_count": null,
   "id": "50e31a9c",
   "metadata": {},
   "outputs": [],
   "source": []
  }
 ],
 "metadata": {
  "kernelspec": {
   "display_name": "Python 3 (ipykernel)",
   "language": "python",
   "name": "python3"
  },
  "language_info": {
   "codemirror_mode": {
    "name": "ipython",
    "version": 3
   },
   "file_extension": ".py",
   "mimetype": "text/x-python",
   "name": "python",
   "nbconvert_exporter": "python",
   "pygments_lexer": "ipython3",
   "version": "3.9.18"
  }
 },
 "nbformat": 4,
 "nbformat_minor": 5
}
